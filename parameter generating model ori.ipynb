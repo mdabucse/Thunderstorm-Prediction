{
 "cells": [
  {
   "cell_type": "code",
   "execution_count": 1,
   "id": "ccbef3c2",
   "metadata": {},
   "outputs": [],
   "source": [
    "import numpy as np\n",
    "import pandas as pd\n",
    "import matplotlib.pyplot as plt\n",
    "import seaborn as sns"
   ]
  },
  {
   "cell_type": "code",
   "execution_count": 2,
   "id": "e8cdcbc7",
   "metadata": {},
   "outputs": [],
   "source": [
    "data=pd.read_csv('final_data_set.csv')"
   ]
  },
  {
   "cell_type": "code",
   "execution_count": 5,
   "id": "0a4f7bac",
   "metadata": {},
   "outputs": [
    {
     "data": {
      "text/html": [
       "<div>\n",
       "<style scoped>\n",
       "    .dataframe tbody tr th:only-of-type {\n",
       "        vertical-align: middle;\n",
       "    }\n",
       "\n",
       "    .dataframe tbody tr th {\n",
       "        vertical-align: top;\n",
       "    }\n",
       "\n",
       "    .dataframe thead th {\n",
       "        text-align: right;\n",
       "    }\n",
       "</style>\n",
       "<table border=\"1\" class=\"dataframe\">\n",
       "  <thead>\n",
       "    <tr style=\"text-align: right;\">\n",
       "      <th></th>\n",
       "      <th>date</th>\n",
       "      <th>meantemp</th>\n",
       "      <th>humidity</th>\n",
       "      <th>wind_speed</th>\n",
       "      <th>Result</th>\n",
       "    </tr>\n",
       "  </thead>\n",
       "  <tbody>\n",
       "    <tr>\n",
       "      <th>0</th>\n",
       "      <td>20130101</td>\n",
       "      <td>10.000000</td>\n",
       "      <td>84.500000</td>\n",
       "      <td>0.000000</td>\n",
       "      <td>1</td>\n",
       "    </tr>\n",
       "    <tr>\n",
       "      <th>1</th>\n",
       "      <td>20130102</td>\n",
       "      <td>7.400000</td>\n",
       "      <td>92.000000</td>\n",
       "      <td>2.980000</td>\n",
       "      <td>1</td>\n",
       "    </tr>\n",
       "    <tr>\n",
       "      <th>2</th>\n",
       "      <td>20130103</td>\n",
       "      <td>7.166667</td>\n",
       "      <td>87.000000</td>\n",
       "      <td>4.633333</td>\n",
       "      <td>0</td>\n",
       "    </tr>\n",
       "    <tr>\n",
       "      <th>3</th>\n",
       "      <td>20130104</td>\n",
       "      <td>8.666667</td>\n",
       "      <td>71.333333</td>\n",
       "      <td>1.233333</td>\n",
       "      <td>1</td>\n",
       "    </tr>\n",
       "    <tr>\n",
       "      <th>4</th>\n",
       "      <td>20130105</td>\n",
       "      <td>6.000000</td>\n",
       "      <td>86.833333</td>\n",
       "      <td>3.700000</td>\n",
       "      <td>1</td>\n",
       "    </tr>\n",
       "  </tbody>\n",
       "</table>\n",
       "</div>"
      ],
      "text/plain": [
       "       date   meantemp   humidity  wind_speed  Result\n",
       "0  20130101  10.000000  84.500000    0.000000       1\n",
       "1  20130102   7.400000  92.000000    2.980000       1\n",
       "2  20130103   7.166667  87.000000    4.633333       0\n",
       "3  20130104   8.666667  71.333333    1.233333       1\n",
       "4  20130105   6.000000  86.833333    3.700000       1"
      ]
     },
     "execution_count": 5,
     "metadata": {},
     "output_type": "execute_result"
    }
   ],
   "source": [
    "data.head()"
   ]
  },
  {
   "cell_type": "code",
   "execution_count": 4,
   "id": "79b8cd65",
   "metadata": {},
   "outputs": [],
   "source": [
    "import warnings\n",
    "warnings.filterwarnings('ignore')\n",
    "for i in range(len(data.humidity)):\n",
    "     data['date'][i]=data['date'][i].replace('-','')\n"
   ]
  },
  {
   "cell_type": "code",
   "execution_count": 114,
   "id": "768e65a5",
   "metadata": {},
   "outputs": [],
   "source": [
    "humi = 0 \n",
    "temp = 0 \n",
    "wind = 0 \n",
    "def dates(date):\n",
    "    global humi,temp,wind\n",
    "    for i in range(len(data.date)):\n",
    "        if date[4:]==data['date'][i][4:]:\n",
    "            temp=data['meantemp'][i]\n",
    "            humi=data['humidity'][i]\n",
    "            wind=data['wind_speed'][i]\n",
    "    return temp,humi,wind"
   ]
  },
  {
   "cell_type": "code",
   "execution_count": 115,
   "id": "d07cf3cf",
   "metadata": {},
   "outputs": [],
   "source": [
    "import pickle"
   ]
  },
  {
   "cell_type": "code",
   "execution_count": 116,
   "id": "03c6335d",
   "metadata": {},
   "outputs": [],
   "source": [
    "with open('final.pkl','rb') as file:\n",
    "    model = pickle.load(file)    "
   ]
  },
  {
   "cell_type": "code",
   "execution_count": 209,
   "id": "e7c8981d",
   "metadata": {},
   "outputs": [],
   "source": [
    "para=dates('20131010')"
   ]
  },
  {
   "cell_type": "code",
   "execution_count": 205,
   "id": "d01843bd",
   "metadata": {
    "scrolled": true
   },
   "outputs": [],
   "source": [
    "arr = ['Thunderstorm Alert ⛈️','Not Possible to Come']"
   ]
  },
  {
   "cell_type": "code",
   "execution_count": 206,
   "id": "04eccb56",
   "metadata": {},
   "outputs": [
    {
     "data": {
      "text/plain": [
       "'Thunderstorm Alert ⛈️'"
      ]
     },
     "execution_count": 206,
     "metadata": {},
     "output_type": "execute_result"
    }
   ],
   "source": [
    "arr[model.predict([para])[0]]"
   ]
  },
  {
   "cell_type": "code",
   "execution_count": 210,
   "id": "f331722e",
   "metadata": {},
   "outputs": [
    {
     "data": {
      "text/plain": [
       "(29.77777777777778, 51.11111111111112, 4.807407407407408)"
      ]
     },
     "execution_count": 210,
     "metadata": {},
     "output_type": "execute_result"
    }
   ],
   "source": [
    "para"
   ]
  },
  {
   "cell_type": "code",
   "execution_count": null,
   "id": "30dbe18d",
   "metadata": {},
   "outputs": [],
   "source": []
  },
  {
   "cell_type": "code",
   "execution_count": null,
   "id": "9576b5cf",
   "metadata": {},
   "outputs": [],
   "source": []
  },
  {
   "cell_type": "code",
   "execution_count": null,
   "id": "701033e0",
   "metadata": {},
   "outputs": [],
   "source": []
  },
  {
   "cell_type": "code",
   "execution_count": null,
   "id": "22ba83d7",
   "metadata": {},
   "outputs": [],
   "source": []
  },
  {
   "cell_type": "code",
   "execution_count": null,
   "id": "f3f37041",
   "metadata": {},
   "outputs": [],
   "source": []
  }
 ],
 "metadata": {
  "kernelspec": {
   "display_name": "Python 3 (ipykernel)",
   "language": "python",
   "name": "python3"
  },
  "language_info": {
   "codemirror_mode": {
    "name": "ipython",
    "version": 3
   },
   "file_extension": ".py",
   "mimetype": "text/x-python",
   "name": "python",
   "nbconvert_exporter": "python",
   "pygments_lexer": "ipython3",
   "version": "3.11.5"
  }
 },
 "nbformat": 4,
 "nbformat_minor": 5
}
